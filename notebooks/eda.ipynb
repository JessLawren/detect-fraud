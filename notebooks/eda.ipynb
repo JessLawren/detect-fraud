{
 "cells": [
  {
   "cell_type": "markdown",
   "id": "dba68388",
   "metadata": {},
   "source": [
    "# EDA\n",
    "\n",
    "Create your own EDA below/ Create as many code-blocks as you need.\n",
    "\n",
    "Once you've completed your EDA, complete the section titled **Reflections** where you will answer questions about your EDA.\n",
    "\n",
    "**Note**: Since this dataset is large, visualizations might load slower. You may want to consider using the `sample()` method if this dataset is too large for your computer to process in a reasonable amount of time."
   ]
  },
  {
   "cell_type": "code",
   "execution_count": 1,
   "id": "0a42d7d8",
   "metadata": {},
   "outputs": [],
   "source": [
    "import pandas as pd \n",
    "import numpy as np\n",
    "\n",
    "import seaborn as sns\n",
    "import matplotlib.pyplot as plt"
   ]
  },
  {
   "cell_type": "code",
   "execution_count": null,
   "id": "95ac8ec2",
   "metadata": {},
   "outputs": [
    {
     "data": {
      "text/html": [
       "<div>\n",
       "<style scoped>\n",
       "    .dataframe tbody tr th:only-of-type {\n",
       "        vertical-align: middle;\n",
       "    }\n",
       "\n",
       "    .dataframe tbody tr th {\n",
       "        vertical-align: top;\n",
       "    }\n",
       "\n",
       "    .dataframe thead th {\n",
       "        text-align: right;\n",
       "    }\n",
       "</style>\n",
       "<table border=\"1\" class=\"dataframe\">\n",
       "  <thead>\n",
       "    <tr style=\"text-align: right;\">\n",
       "      <th></th>\n",
       "      <th>type</th>\n",
       "      <th>amount</th>\n",
       "      <th>nameOrig</th>\n",
       "      <th>oldbalanceOrg</th>\n",
       "      <th>newbalanceOrig</th>\n",
       "      <th>nameDest</th>\n",
       "      <th>oldbalanceDest</th>\n",
       "      <th>newbalanceDest</th>\n",
       "      <th>isFraud</th>\n",
       "      <th>isFlaggedFraud</th>\n",
       "    </tr>\n",
       "  </thead>\n",
       "  <tbody>\n",
       "    <tr>\n",
       "      <th>0</th>\n",
       "      <td>PAYMENT</td>\n",
       "      <td>983.09</td>\n",
       "      <td>C1454812978</td>\n",
       "      <td>36730.24</td>\n",
       "      <td>35747.15</td>\n",
       "      <td>M1491308340</td>\n",
       "      <td>0.00</td>\n",
       "      <td>0.00</td>\n",
       "      <td>0</td>\n",
       "      <td>0</td>\n",
       "    </tr>\n",
       "    <tr>\n",
       "      <th>1</th>\n",
       "      <td>PAYMENT</td>\n",
       "      <td>55215.25</td>\n",
       "      <td>C1031766358</td>\n",
       "      <td>99414.00</td>\n",
       "      <td>44198.75</td>\n",
       "      <td>M2102868029</td>\n",
       "      <td>0.00</td>\n",
       "      <td>0.00</td>\n",
       "      <td>0</td>\n",
       "      <td>0</td>\n",
       "    </tr>\n",
       "    <tr>\n",
       "      <th>2</th>\n",
       "      <td>CASH_IN</td>\n",
       "      <td>220986.01</td>\n",
       "      <td>C1451868666</td>\n",
       "      <td>7773074.97</td>\n",
       "      <td>7994060.98</td>\n",
       "      <td>C1339195526</td>\n",
       "      <td>924031.48</td>\n",
       "      <td>703045.48</td>\n",
       "      <td>0</td>\n",
       "      <td>0</td>\n",
       "    </tr>\n",
       "    <tr>\n",
       "      <th>3</th>\n",
       "      <td>TRANSFER</td>\n",
       "      <td>2357394.75</td>\n",
       "      <td>C458368123</td>\n",
       "      <td>0.00</td>\n",
       "      <td>0.00</td>\n",
       "      <td>C620979654</td>\n",
       "      <td>4202580.45</td>\n",
       "      <td>6559975.19</td>\n",
       "      <td>0</td>\n",
       "      <td>0</td>\n",
       "    </tr>\n",
       "    <tr>\n",
       "      <th>4</th>\n",
       "      <td>CASH_OUT</td>\n",
       "      <td>67990.14</td>\n",
       "      <td>C1098978063</td>\n",
       "      <td>0.00</td>\n",
       "      <td>0.00</td>\n",
       "      <td>C142246322</td>\n",
       "      <td>625317.04</td>\n",
       "      <td>693307.19</td>\n",
       "      <td>0</td>\n",
       "      <td>0</td>\n",
       "    </tr>\n",
       "  </tbody>\n",
       "</table>\n",
       "</div>"
      ],
      "text/plain": [
       "       type      amount     nameOrig  oldbalanceOrg  newbalanceOrig  \\\n",
       "0   PAYMENT      983.09  C1454812978       36730.24        35747.15   \n",
       "1   PAYMENT    55215.25  C1031766358       99414.00        44198.75   \n",
       "2   CASH_IN   220986.01  C1451868666     7773074.97      7994060.98   \n",
       "3  TRANSFER  2357394.75   C458368123           0.00            0.00   \n",
       "4  CASH_OUT    67990.14  C1098978063           0.00            0.00   \n",
       "\n",
       "      nameDest  oldbalanceDest  newbalanceDest  isFraud  isFlaggedFraud  \n",
       "0  M1491308340            0.00            0.00        0               0  \n",
       "1  M2102868029            0.00            0.00        0               0  \n",
       "2  C1339195526       924031.48       703045.48        0               0  \n",
       "3   C620979654      4202580.45      6559975.19        0               0  \n",
       "4   C142246322       625317.04       693307.19        0               0  "
      ]
     },
     "execution_count": 2,
     "metadata": {},
     "output_type": "execute_result"
    }
   ],
   "source": [
    "# Step 1: import data \n",
    "transactions = pd.read_csv(\"../data/bank_transactions.csv\")\n",
    "\n",
    "transactions.head()"
   ]
  },
  {
   "cell_type": "code",
   "execution_count": null,
   "id": "a6ebe601",
   "metadata": {},
   "outputs": [
    {
     "name": "stdout",
     "output_type": "stream",
     "text": [
      "Shape (1000000, 10)\n",
      "<class 'pandas.core.frame.DataFrame'>\n",
      "RangeIndex: 1000000 entries, 0 to 999999\n",
      "Data columns (total 10 columns):\n",
      " #   Column          Non-Null Count    Dtype  \n",
      "---  ------          --------------    -----  \n",
      " 0   type            1000000 non-null  object \n",
      " 1   amount          1000000 non-null  float64\n",
      " 2   nameOrig        1000000 non-null  object \n",
      " 3   oldbalanceOrg   1000000 non-null  float64\n",
      " 4   newbalanceOrig  1000000 non-null  float64\n",
      " 5   nameDest        1000000 non-null  object \n",
      " 6   oldbalanceDest  1000000 non-null  float64\n",
      " 7   newbalanceDest  1000000 non-null  float64\n",
      " 8   isFraud         1000000 non-null  int64  \n",
      " 9   isFlaggedFraud  1000000 non-null  int64  \n",
      "dtypes: float64(5), int64(2), object(3)\n",
      "memory usage: 76.3+ MB\n",
      "Missing values in columns type              0\n",
      "amount            0\n",
      "nameOrig          0\n",
      "oldbalanceOrg     0\n",
      "newbalanceOrig    0\n",
      "nameDest          0\n",
      "oldbalanceDest    0\n",
      "newbalanceDest    0\n",
      "isFraud           0\n",
      "isFlaggedFraud    0\n",
      "dtype: int64\n",
      "Duplicate rows 0\n",
      "Count of transaction types type\n",
      "CASH_OUT    351360\n",
      "PAYMENT     338573\n",
      "CASH_IN     219955\n",
      "TRANSFER     83695\n",
      "DEBIT         6417\n",
      "Name: count, dtype: int64\n",
      "Fraud count: isFraud\n",
      "0    998703\n",
      "1      1297\n",
      "Name: count, dtype: int64\n",
      "Flagged counts isFlaggedFraud\n",
      "0    999999\n",
      "1         1\n",
      "Name: count, dtype: int64\n"
     ]
    }
   ],
   "source": [
    "# TODO: view the shape of your data\n",
    "#Step 2:Data Exploration & cleaning\n",
    "print(\"Shape\", transactions.shape)\n",
    "transactions.info()\n",
    "transactions.describe()\n",
    "\n",
    "print(\"Missing values in columns\", transactions.isnull().sum())\n",
    "print(\"Duplicate rows\", transactions.duplicated().sum())\n",
    "print(\"Count of transaction types\", transactions['type'].value_counts())\n",
    "print(\"Fraud count:\", transactions['isFraud'].value_counts())\n",
    "print(\"Flagged counts\", transactions['isFlaggedFraud'].value_counts())\n"
   ]
  },
  {
   "cell_type": "code",
   "execution_count": null,
   "id": "4036592b",
   "metadata": {},
   "outputs": [],
   "source": [
    "#Step 3:Exploratory data analysis\n"
   ]
  },
  {
   "cell_type": "code",
   "execution_count": 4,
   "id": "4884101d",
   "metadata": {},
   "outputs": [],
   "source": [
    "# TODO: Begin your EDA\n",
    "..."
   ]
  },
  {
   "cell_type": "markdown",
   "id": "5a6d360d",
   "metadata": {},
   "source": [
    "## Reflections\n",
    "\n",
    "Answer each question based on the visualizations that you've generated.\n",
    "\n",
    "Remember, you must justify your answers with proof."
   ]
  },
  {
   "cell_type": "markdown",
   "id": "4702d01d",
   "metadata": {},
   "source": [
    "### Q1\n",
    "\n",
    "Take a closer look at the numeric features in your dataset. How are these values distributed and what might this tell you about how most transactions behave compared to a few **rare** ones?\n",
    "\n",
    "**Hint**: Consider using visualizations that highlight frequency across value ranges.\n",
    "\n",
    "Answer here"
   ]
  },
  {
   "cell_type": "markdown",
   "id": "1699ba71",
   "metadata": {},
   "source": [
    "### Q2\n",
    "\n",
    "When comparing different numerical features against one another, do any interesting patterns emerge for transactions marked as fraudulent? Are there particular regions or ranges where these transactions seem to concentrate?\n",
    "\n",
    "**Hint**: Try comparing two numeric features at a time while distinguishing between fraud and non-fraud. Use visual cues to spot clusters or anomalies.\n",
    "\n",
    "Answer here"
   ]
  },
  {
   "cell_type": "markdown",
   "id": "561cffc4",
   "metadata": {},
   "source": [
    "### Q3\n",
    "\n",
    "How do types of transaction relate to the typical amounts involved? Are some types of transactions consistently larger or smaller than others?\n",
    "\n",
    "**Hint**: Break the dataset down by transaction type and compare summary statistics."
   ]
  },
  {
   "cell_type": "markdown",
   "id": "211b2b6a",
   "metadata": {},
   "source": [
    "### Q4\n",
    "\n",
    "Do transaction amounts vary when you compare fraudulent and non-fraudulent transactions across different transaction types? What patterns emerge when you look at both fraud status and transaction type together?\n",
    "\n",
    "**Hint**:  Try summarizing average transaction amounts by both fraud label and transaction type to compare across categories.\n",
    "\n",
    "Answer here"
   ]
  },
  {
   "cell_type": "markdown",
   "id": "c5b31047",
   "metadata": {},
   "source": [
    "## Q5\n",
    "\n",
    "Consider how well the system's built-in fraud flag (`isFlaggedFraud`) aligns with actual fraudulent activity. Are there mismatches? What does this tell you about the system's current performance?\n",
    "\n",
    "**Hint**: Try organizing the data in a way that shows how often flagged transactions are truly fraudulent and how often fraud goes unflagged.\n",
    "\n",
    "Answer here"
   ]
  }
 ],
 "metadata": {
  "kernelspec": {
   "display_name": "ds",
   "language": "python",
   "name": "python3"
  },
  "language_info": {
   "codemirror_mode": {
    "name": "ipython",
    "version": 3
   },
   "file_extension": ".py",
   "mimetype": "text/x-python",
   "name": "python",
   "nbconvert_exporter": "python",
   "pygments_lexer": "ipython3",
   "version": "3.10.16"
  }
 },
 "nbformat": 4,
 "nbformat_minor": 5
}
